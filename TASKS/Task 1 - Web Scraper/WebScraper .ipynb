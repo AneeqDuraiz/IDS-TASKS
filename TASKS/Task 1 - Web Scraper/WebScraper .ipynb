{
 "cells": [
  {
   "cell_type": "code",
   "execution_count": 1,
   "id": "998769a3",
   "metadata": {},
   "outputs": [
    {
     "name": "stdout",
     "output_type": "stream",
     "text": [
      "Requirement already satisfied: html5lib in c:\\users\\aneeq\\anaconda3\\lib\\site-packages (1.1)\n",
      "Requirement already satisfied: webencodings in c:\\users\\aneeq\\anaconda3\\lib\\site-packages (from html5lib) (0.5.1)\n",
      "Requirement already satisfied: six>=1.9 in c:\\users\\aneeq\\anaconda3\\lib\\site-packages (from html5lib) (1.16.0)\n",
      "Requirement already satisfied: beautifulSoup4 in c:\\users\\aneeq\\anaconda3\\lib\\site-packages (4.11.1)\n",
      "Requirement already satisfied: soupsieve>1.2 in c:\\users\\aneeq\\anaconda3\\lib\\site-packages (from beautifulSoup4) (2.3.1)\n"
     ]
    }
   ],
   "source": [
    "!pip install html5lib\n",
    "!pip install beautifulSoup4\n"
   ]
  },
  {
   "cell_type": "code",
   "execution_count": 17,
   "id": "17a99f3a",
   "metadata": {},
   "outputs": [
    {
     "name": "stdout",
     "output_type": "stream",
     "text": [
      "Are the walls really closing in on Trump this time?\n",
      "Democrats lost ground with Latino voters in 2020. Will the midterms be worse?\n",
      "The Mississippi welfare fraud involving Brett Favre, explained \n",
      "How the polls might be wrong (again) this year\n",
      "How a 100-year-old miscalculation drained the Colorado River\n",
      "The far right is having a moment in Europe. Actually, everywhere.\n",
      "What’s behind House Democrats’ sudden compromise on policing\n",
      "“The party is over”: How Meta and Google are using recession fears to clean house\n",
      "Vox’s audience support program, explained\n",
      "What do you think of Vox? Tell us!\n",
      "Why Iranian women are risking everything by burning their hijabs \n",
      "Trump’s defeat in the Mar-a-Lago “special master” case, explained\n",
      "The power and potential of Latino voters\n",
      "What Putin’s latest threats mean for the risk of nuclear war\n",
      "Take a mental break with the newest Vox crossword\n",
      "The buzziest fall movies have something in common\n",
      "House of the Dragon and the Targaryen family, explained\n",
      "We're building great things, and we need your talent.\n",
      "How to stop rolling the dice on the destruction of human civilization \n",
      "Remote workers are wasting their time proving they’re actually working\n",
      "Mandatory overtime is garbage\n",
      "Runners can be disqualified for starting after the gun. What gives?\n",
      "Why Ron DeSantis is baiting Biden on the border\n",
      "The Highlight\n",
      "How interest rate hikes ripple throughout the economy\n",
      "The 4 major criminal probes into Donald Trump, explained\n",
      "Putin’s nuclear threats and war escalation, explained\n",
      "New York attorney general sues Trump, accuses him of “astounding” fraud and deception \n",
      "Why all Americans should be paying attention to Puerto Rico’s power grid\n",
      "The West is testing out a lot of shiny new military tech in Ukraine\n",
      "Even Mitch McConnell’s “perfect” candidate might not win in Colorado\n",
      "Progressives have welcomed migrants. Now they need to house them\n",
      "Who owns what in Big Media today\n",
      "Everything you need to know about voting right now\n",
      "Adnan Syed is free — and it only took years of criminal justice reform\n",
      "Russians believe they can win the war. Here are 3 reasons why.\n",
      "Ruben Gallego’s ready for a fight — even if the Democratic Party isn’t\n",
      "Inside Darren Aronofsky’s messy movie The Whale is something wise about religious trauma\n",
      "The profound pessimism of Clarence Thomas\n",
      "A practical guide to winning Latino voters\n",
      "Latino voters are being flooded with even more misinformation in 2022\n",
      "Yes, most Latinos are Christian. No, that doesn’t make them anti-abortion.\n",
      "How 2022 became the year of the Latina Republican \n",
      "The power of Hispanic voters, in 10 charts\n",
      "America’s fastest-growing, frequently misunderstood voting bloc\n",
      "Two Republican judges just let Texas seize control of Twitter and Facebook\n",
      "How a Category 1 hurricane did so much damage in Puerto Rico\n",
      "Even Better\n",
      "How The Woman King confronts Africa’s role in the slave trade\n"
     ]
    }
   ],
   "source": [
    "import html5lib\n",
    "import requests\n",
    "from bs4 import BeautifulSoup\n",
    "\n",
    "\n",
    "response = requests.get(\"https://www.vox.com/\")\n",
    "response.content\n",
    "\n",
    "root = BeautifulSoup(response.content, 'html5lib')\n",
    "\n",
    "for row in root.find_all('h2', attrs = {'class':'c-entry-box--compact__title'}):\n",
    "  print (row.a.text)\n"
   ]
  },
  {
   "cell_type": "code",
   "execution_count": null,
   "id": "c5840a5f",
   "metadata": {},
   "outputs": [],
   "source": []
  },
  {
   "cell_type": "code",
   "execution_count": null,
   "id": "478717c0",
   "metadata": {},
   "outputs": [],
   "source": []
  }
 ],
 "metadata": {
  "kernelspec": {
   "display_name": "Python 3 (ipykernel)",
   "language": "python",
   "name": "python3"
  },
  "language_info": {
   "codemirror_mode": {
    "name": "ipython",
    "version": 3
   },
   "file_extension": ".py",
   "mimetype": "text/x-python",
   "name": "python",
   "nbconvert_exporter": "python",
   "pygments_lexer": "ipython3",
   "version": "3.9.12"
  }
 },
 "nbformat": 4,
 "nbformat_minor": 5
}
