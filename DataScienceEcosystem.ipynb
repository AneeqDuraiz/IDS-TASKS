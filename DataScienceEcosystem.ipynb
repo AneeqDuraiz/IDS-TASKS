{
 "cells": [
  {
   "cell_type": "markdown",
   "metadata": {},
   "source": [
    "<center>\n",
    "    <img src=\"https://cf-courses-data.s3.us.cloud-object-storage.appdomain.cloud/IBMDeveloperSkillsNetwork-DS0105EN-SkillsNetwork/labs/Module2/images/SN_web_lightmode.png\" width=\"300\" alt=\"cognitiveclass.ai logo\">\n",
    "</center>\n"
   ]
  },
  {
   "cell_type": "markdown",
   "metadata": {},
   "source": [
    "#### Add your code below following the instructions given in the course\n"
   ]
  },
  {
   "cell_type": "markdown",
   "metadata": {},
   "source": [
    "# Data Science Tools and Ecosystem"
   ]
  },
  {
   "cell_type": "markdown",
   "metadata": {},
   "source": [
    "### In this notebook, Data Science Tools and Ecosystem are summarized."
   ]
  },
  {
   "cell_type": "markdown",
   "metadata": {},
   "source": [
    "Some of the popular languages that Data Scientists use are:\n",
    "\n",
    "1. **Python**\n",
    "   - Widely used for data analysis, machine learning, and scientific computing. Popular libraries like NumPy, Pandas, and Scikit-learn support data science workflows.\n",
    "\n",
    "2. **R**\n",
    "   - Especially popular in statistical analysis and visualization. R provides a rich ecosystem of packages like ggplot2 and dplyr.\n",
    "\n",
    "3. **SQL**\n",
    "   - Essential for working with relational databases. SQL is used to query and manipulate data stored in databases, which is crucial for many data science projects.\n",
    "\n",
    "4. **Julia**\n",
    "   - Known for its high-performance computing capabilities, Julia is gaining traction in data science for tasks that require fast numerical computations.\n"
   ]
  },
  {
   "cell_type": "markdown",
   "metadata": {},
   "source": [
    "Some of the commonly used libraries by Data Scientists include:\n",
    "\n",
    "1. **NumPy**\n",
    "   - A fundamental package for scientific computing with Python. It provides support for large, multi-dimensional arrays and matrices, along with mathematical functions to operate on these arrays.\n",
    "\n",
    "2. **Pandas**\n",
    "   - A powerful data manipulation and analysis library for Python. Pandas simplifies working with structured data, offering data structures like DataFrame for efficient data handling.\n",
    "\n",
    "3. **Matplotlib**\n",
    "   - A 2D plotting library for Python, widely used for creating static, animated, and interactive visualizations in Python. It is often used in conjunction with NumPy and Pandas.\n",
    "\n",
    "4. **Scikit-learn**\n",
    "   - A machine learning library for Python that provides simple and efficient tools for data analysis and modeling. Scikit-learn includes various algorithms for classification, regression, clustering, and more.\n",
    "\n",
    "5. **TensorFlow**\n",
    "   - An open-source machine learning library developed by Google. TensorFlow is widely used for building and training deep learning models, offering flexibility and scalability.\n",
    "\n",
    "6. **PyTorch**\n",
    "   - An open-source machine learning library developed by Facebook. PyTorch is known for its dynamic computational graph, making it popular among researchers and practitioners in deep learning.\n"
   ]
  },
  {
   "cell_type": "markdown",
   "metadata": {},
   "source": [
    "| Data Science Tools |\n",
    "|---------------------|\n",
    "| Jupyter Notebooks   |\n",
    "| RStudio             |\n",
    "| VS Code + Extensions|\n"
   ]
  },
  {
   "cell_type": "markdown",
   "metadata": {},
   "source": [
    "### Below are a few examples of evaluating arithmetic expressions in Python\n",
    "\n",
    "Arithmetic expressions involve mathematical operations like addition, subtraction, multiplication, and division. In Python, these expressions are straightforward to write and evaluate.\n",
    "\n",
    "Let's look at some examples:\n",
    "\n",
    "1. Addition:\n",
    "   ```python\n",
    "   result = 5 + 3\n",
    "   print(result)  # Output: 8\n"
   ]
  },
  {
   "cell_type": "markdown",
   "metadata": {},
   "source": [
    "1. Subtraction:\n",
    "result = 10 - 4\n",
    "print(result)  # Output: 6\n"
   ]
  },
  {
   "cell_type": "code",
   "execution_count": 3,
   "metadata": {},
   "outputs": [
    {
     "name": "stdout",
     "output_type": "stream",
     "text": [
      "17\n"
     ]
    }
   ],
   "source": [
    "# This is a simple arithmetic expression to multiply then add integers.\n",
    "result = (3 * 4) + 5\n",
    "print(result)\n"
   ]
  },
  {
   "cell_type": "code",
   "execution_count": 4,
   "metadata": {},
   "outputs": [
    {
     "name": "stdout",
     "output_type": "stream",
     "text": [
      "3.3333333333333335\n"
     ]
    }
   ],
   "source": [
    "# This will convert 200 minutes to hours by dividing by 60.\n",
    "minutes = 200\n",
    "hours = minutes / 60\n",
    "print(hours)\n"
   ]
  },
  {
   "cell_type": "markdown",
   "metadata": {},
   "source": [
    "**Objectives:**\n",
    "\n",
    "- List popular languages for Data Science.\n",
    "- Introduce commonly used libraries in Data Science.\n",
    "- Create a table of Data Science tools.\n",
    "- Demonstrate evaluating arithmetic expressions in Python.\n",
    "- Convert minutes to hours in a simple Python expression.\n"
   ]
  },
  {
   "cell_type": "markdown",
   "metadata": {},
   "source": [
    "## Author\n",
    "\n",
    "Aneeq Duraiz\n"
   ]
  },
  {
   "cell_type": "code",
   "execution_count": null,
   "metadata": {},
   "outputs": [],
   "source": []
  }
 ],
 "metadata": {
  "kernelspec": {
   "display_name": "Python 3 (ipykernel)",
   "language": "python",
   "name": "python3"
  },
  "language_info": {
   "codemirror_mode": {
    "name": "ipython",
    "version": 3
   },
   "file_extension": ".py",
   "mimetype": "text/x-python",
   "name": "python",
   "nbconvert_exporter": "python",
   "pygments_lexer": "ipython3",
   "version": "3.10.9"
  }
 },
 "nbformat": 4,
 "nbformat_minor": 4
}
