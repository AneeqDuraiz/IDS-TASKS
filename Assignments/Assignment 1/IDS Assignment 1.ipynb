{
 "cells": [
  {
   "cell_type": "markdown",
   "id": "3cfd2d7b",
   "metadata": {},
   "source": [
    " Load the dataset (csv file) into a Pandas DataFrame."
   ]
  },
  {
   "cell_type": "code",
   "execution_count": 167,
   "id": "8e708607",
   "metadata": {},
   "outputs": [
    {
     "data": {
      "text/html": [
       "<div>\n",
       "<style scoped>\n",
       "    .dataframe tbody tr th:only-of-type {\n",
       "        vertical-align: middle;\n",
       "    }\n",
       "\n",
       "    .dataframe tbody tr th {\n",
       "        vertical-align: top;\n",
       "    }\n",
       "\n",
       "    .dataframe thead th {\n",
       "        text-align: right;\n",
       "    }\n",
       "</style>\n",
       "<table border=\"1\" class=\"dataframe\">\n",
       "  <thead>\n",
       "    <tr style=\"text-align: right;\">\n",
       "      <th></th>\n",
       "      <th>Name</th>\n",
       "      <th>Gender</th>\n",
       "      <th>HSSC-1</th>\n",
       "      <th>HSSC-2</th>\n",
       "      <th>CGPA</th>\n",
       "      <th>FavoriteColor</th>\n",
       "      <th>BirthMonth</th>\n",
       "      <th>Weight</th>\n",
       "    </tr>\n",
       "  </thead>\n",
       "  <tbody>\n",
       "    <tr>\n",
       "      <th>0</th>\n",
       "      <td>Muhammad Usman</td>\n",
       "      <td>Male</td>\n",
       "      <td>440</td>\n",
       "      <td>369</td>\n",
       "      <td>2.8</td>\n",
       "      <td>Black</td>\n",
       "      <td>March</td>\n",
       "      <td>77</td>\n",
       "    </tr>\n",
       "    <tr>\n",
       "      <th>1</th>\n",
       "      <td>Taha Ishfaq</td>\n",
       "      <td>Male</td>\n",
       "      <td>415</td>\n",
       "      <td>408</td>\n",
       "      <td>2.73</td>\n",
       "      <td>Red</td>\n",
       "      <td>March</td>\n",
       "      <td>72</td>\n",
       "    </tr>\n",
       "    <tr>\n",
       "      <th>2</th>\n",
       "      <td>Muhammad Hamdan</td>\n",
       "      <td>Male</td>\n",
       "      <td>388</td>\n",
       "      <td>321</td>\n",
       "      <td>2.78</td>\n",
       "      <td>Black</td>\n",
       "      <td>October</td>\n",
       "      <td>53</td>\n",
       "    </tr>\n",
       "    <tr>\n",
       "      <th>3</th>\n",
       "      <td>Syeda Maham Gillani</td>\n",
       "      <td>Female</td>\n",
       "      <td>412</td>\n",
       "      <td>440</td>\n",
       "      <td>3.11</td>\n",
       "      <td>Blue</td>\n",
       "      <td>February</td>\n",
       "      <td>63</td>\n",
       "    </tr>\n",
       "    <tr>\n",
       "      <th>4</th>\n",
       "      <td>Umar Wasim</td>\n",
       "      <td>Male</td>\n",
       "      <td>364</td>\n",
       "      <td>469</td>\n",
       "      <td>2.42</td>\n",
       "      <td>black</td>\n",
       "      <td>October</td>\n",
       "      <td>80</td>\n",
       "    </tr>\n",
       "    <tr>\n",
       "      <th>...</th>\n",
       "      <td>...</td>\n",
       "      <td>...</td>\n",
       "      <td>...</td>\n",
       "      <td>...</td>\n",
       "      <td>...</td>\n",
       "      <td>...</td>\n",
       "      <td>...</td>\n",
       "      <td>...</td>\n",
       "    </tr>\n",
       "    <tr>\n",
       "      <th>129</th>\n",
       "      <td>M Abubakar Malik</td>\n",
       "      <td>Male</td>\n",
       "      <td>410</td>\n",
       "      <td>349</td>\n",
       "      <td>2.94</td>\n",
       "      <td>Blue</td>\n",
       "      <td>Feburary</td>\n",
       "      <td>65</td>\n",
       "    </tr>\n",
       "    <tr>\n",
       "      <th>130</th>\n",
       "      <td>Muhammad Ali</td>\n",
       "      <td>Male</td>\n",
       "      <td>403</td>\n",
       "      <td>390</td>\n",
       "      <td>2.52</td>\n",
       "      <td>Yellow</td>\n",
       "      <td>October</td>\n",
       "      <td>81</td>\n",
       "    </tr>\n",
       "    <tr>\n",
       "      <th>131</th>\n",
       "      <td>shafaqat ali</td>\n",
       "      <td>Male</td>\n",
       "      <td>424</td>\n",
       "      <td>824</td>\n",
       "      <td>3.07</td>\n",
       "      <td>Black</td>\n",
       "      <td>May</td>\n",
       "      <td>58</td>\n",
       "    </tr>\n",
       "    <tr>\n",
       "      <th>132</th>\n",
       "      <td>Ammar Asif</td>\n",
       "      <td>Male</td>\n",
       "      <td>351</td>\n",
       "      <td>423</td>\n",
       "      <td>2.52</td>\n",
       "      <td>Black</td>\n",
       "      <td>December</td>\n",
       "      <td>68</td>\n",
       "    </tr>\n",
       "    <tr>\n",
       "      <th>133</th>\n",
       "      <td>Muhammad Zubair</td>\n",
       "      <td>Male</td>\n",
       "      <td>361</td>\n",
       "      <td>335</td>\n",
       "      <td>2.81</td>\n",
       "      <td>Black</td>\n",
       "      <td>March</td>\n",
       "      <td>58</td>\n",
       "    </tr>\n",
       "  </tbody>\n",
       "</table>\n",
       "<p>134 rows × 8 columns</p>\n",
       "</div>"
      ],
      "text/plain": [
       "                    Name  Gender HSSC-1 HSSC-2  CGPA FavoriteColor BirthMonth  \\\n",
       "0         Muhammad Usman    Male    440    369   2.8         Black      March   \n",
       "1            Taha Ishfaq    Male    415    408  2.73           Red      March   \n",
       "2        Muhammad Hamdan    Male    388    321  2.78         Black    October   \n",
       "3    Syeda Maham Gillani  Female    412    440  3.11          Blue   February   \n",
       "4             Umar Wasim    Male    364    469  2.42         black   October    \n",
       "..                   ...     ...    ...    ...   ...           ...        ...   \n",
       "129     M Abubakar Malik    Male    410    349  2.94          Blue   Feburary   \n",
       "130         Muhammad Ali    Male    403    390  2.52        Yellow    October   \n",
       "131         shafaqat ali    Male    424    824  3.07         Black        May   \n",
       "132          Ammar Asif     Male    351    423  2.52         Black  December    \n",
       "133      Muhammad Zubair    Male    361    335  2.81         Black      March   \n",
       "\n",
       "    Weight  \n",
       "0       77  \n",
       "1       72  \n",
       "2       53  \n",
       "3       63  \n",
       "4       80  \n",
       "..     ...  \n",
       "129     65  \n",
       "130     81  \n",
       "131     58  \n",
       "132     68  \n",
       "133     58  \n",
       "\n",
       "[134 rows x 8 columns]"
      ]
     },
     "execution_count": 167,
     "metadata": {},
     "output_type": "execute_result"
    }
   ],
   "source": [
    "import pandas as pd\n",
    "df = pd.read_csv('the-hello-dataset-fa22.csv')\n"
   ]
  },
  {
   "cell_type": "markdown",
   "id": "96b250f7",
   "metadata": {},
   "source": [
    "Manually view the dataset, and see if it requires any cleaning/normalization"
   ]
  },
  {
   "cell_type": "code",
   "execution_count": 168,
   "id": "baa73f18",
   "metadata": {},
   "outputs": [],
   "source": [
    "import re\n",
    "def HSSC_Clean(y):\n",
    "    if re.match(r\"\\d\\d?\\d?%\", y):\n",
    "        y = y.strip(\"%\")\n",
    "        y = int(y)/100 * 510\n",
    "    if re.match(r\"\\d\\d?\\d?\\/\\d\\d\\d\", str(y)):\n",
    "        y = y[  : 3: 1]\n",
    "    if re.match(r\"\\d{3}\\s\\(total\\)\", str(y)):\n",
    "        y = y[  : 3: 1]\n",
    "        \n",
    "    return y\n",
    "\n",
    "df['CGPA'] = [x.strip(\".\") for x in df['CGPA']]\n",
    "hssc1 = []\n",
    "\n",
    "df['HSSC-1'] = [HSSC_Clean(str(y)) for y in df['HSSC-1']]\n",
    "df['HSSC-2'] = [HSSC_Clean(str(y)) for y in df['HSSC-2']]\n",
    "\n",
    "\n",
    "df[\"FavoriteColor\"] = [s.lower() for s in df['FavoriteColor']]\n",
    "df[\"FavoriteColor\"] =  [x.strip() for x in df['FavoriteColor']]\n",
    "\n",
    "\n",
    "    \n",
    "\n",
    "df['CGPA'] = df['CGPA'].astype(float)\n",
    "df['HSSC-1'] = df['HSSC-1'].astype(int)\n",
    "df['HSSC-2'] = df['HSSC-2'].astype(int)"
   ]
  },
  {
   "cell_type": "markdown",
   "id": "2e3bc644",
   "metadata": {},
   "source": [
    "Print the list of all students whose first name starts with letter the 'H'"
   ]
  },
  {
   "cell_type": "code",
   "execution_count": 169,
   "id": "25270890",
   "metadata": {},
   "outputs": [
    {
     "name": "stdout",
     "output_type": "stream",
     "text": [
      "9             Hamza Naveed\n",
      "21             Habib Ullah\n",
      "22            Hunain Javed\n",
      "58    Hafiz Malahim Labib.\n",
      "60     HAMNA TARIQ SALEEMI\n",
      "77                    Hina\n",
      "78        Hamza Javed Khan\n",
      "80          Husnain Ahmed \n",
      "93        Hamayoun Masroor\n",
      "98           Hussain afzal\n",
      "Name: Name, dtype: object\n"
     ]
    }
   ],
   "source": [
    "filt = df['Name'].str.match(r'^H')\n",
    "filtered_df = df[filt]\n",
    "print(filtered_df['Name'])"
   ]
  },
  {
   "cell_type": "code",
   "execution_count": 170,
   "id": "ca8bff44",
   "metadata": {},
   "outputs": [
    {
     "name": "stdout",
     "output_type": "stream",
     "text": [
      "Total Students with 3 word name: 43\n"
     ]
    }
   ],
   "source": [
    "filt = df['Name'].str.match(r'\\w+ \\w+ \\w+')\n",
    "filtered_df1 = df[filt]\n",
    "print(f\"Total Students with 3 word name: {filtered_df1.shape[0]}\")"
   ]
  },
  {
   "cell_type": "code",
   "execution_count": 171,
   "id": "eb1c71b8",
   "metadata": {},
   "outputs": [
    {
     "data": {
      "text/plain": [
       "134"
      ]
     },
     "execution_count": 171,
     "metadata": {},
     "output_type": "execute_result"
    }
   ],
   "source": [
    "df.shape[0]"
   ]
  },
  {
   "cell_type": "markdown",
   "id": "19f9bf1c",
   "metadata": {},
   "source": [
    "Print the percentage of students who have a CGPA of 3.0 or above."
   ]
  },
  {
   "cell_type": "code",
   "execution_count": 172,
   "id": "cf9e8960",
   "metadata": {},
   "outputs": [
    {
     "name": "stdout",
     "output_type": "stream",
     "text": [
      "38\n",
      "28.36% students have CGPA above 3.0\n"
     ]
    }
   ],
   "source": [
    "filt = df['CGPA'] >= 3.0 \n",
    "theatas = df[filt].shape[0]\n",
    "print(theatas)\n",
    "print(f\"{round(theatas/df.shape[0] * 100, 2)}% students have CGPA above 3.0\")"
   ]
  },
  {
   "cell_type": "markdown",
   "id": "7e7c8f5b",
   "metadata": {},
   "source": [
    "Plot a pie chart to show the ratio of male and female students.\n"
   ]
  },
  {
   "cell_type": "code",
   "execution_count": 173,
   "id": "93d3d976",
   "metadata": {},
   "outputs": [
    {
     "data": {
      "image/png": "[encoded data removed]",
      "text/plain": [
       "<Figure size 432x288 with 1 Axes>"
      ]
     },
     "metadata": {},
     "output_type": "display_data"
    }
   ],
   "source": [
    "import matplotlib.pyplot as plt\n",
    "\n",
    "males = df[df['Gender'].str.match(r'\\b[Mm]ale')].shape[0]\n",
    "females =  df.shape[0] - males\n",
    "\n",
    "gender = ['Males', 'Females']\n",
    "data = [males, females]\n",
    "plt.pie(data, labels = gender, autopct='%1.1f%%')\n",
    "plt.show()"
   ]
  },
  {
   "cell_type": "markdown",
   "id": "5cf6f07b",
   "metadata": {},
   "source": [
    "Plot the CGPA of all male students on a histogram with intervals 2.0-2.5, 2.6-3.0, 3.1-3.5, 3.6-4.0."
   ]
  },
  {
   "cell_type": "code",
   "execution_count": 174,
   "id": "ef7430bf",
   "metadata": {},
   "outputs": [
    {
     "data": {
      "text/plain": [
       "(array([12., 10., 63.,  6., 21.,  1.,  0.]),\n",
       " array([2. , 2.5, 2.6, 3. , 3.1, 3.5, 3.6, 4. ]),\n",
       " <BarContainer object of 7 artists>)"
      ]
     },
     "execution_count": 174,
     "metadata": {},
     "output_type": "execute_result"
    },
    {
     "data": {
      "image/png": "[encoded data removed]",
      "text/plain": [
       "<Figure size 432x288 with 1 Axes>"
      ]
     },
     "metadata": {
      "needs_background": "light"
     },
     "output_type": "display_data"
    }
   ],
   "source": [
    "malesDf = df[df['Gender'].str.match(r'\\b[Mm]ale')]\n",
    "cgpaMales = malesDf['CGPA']\n",
    "\n",
    "bins = [2.0,2.5, 2.6,3.0, 3.1,3.5, 3.6,4.0]\n",
    "\n",
    "plt.hist(cgpaMales, bins = bins, edgecolor= 'black')\n"
   ]
  },
  {
   "cell_type": "markdown",
   "id": "4886048b",
   "metadata": {},
   "source": [
    "Plot the HSSC-1 marks of all male vs female students on a scatter plot."
   ]
  },
  {
   "cell_type": "code",
   "execution_count": 181,
   "id": "9e2887f4",
   "metadata": {},
   "outputs": [
    {
     "data": {
      "text/plain": [
       "<matplotlib.collections.PathCollection at 0x211c3ece7f0>"
      ]
     },
     "execution_count": 181,
     "metadata": {},
     "output_type": "execute_result"
    },
    {
     "data": {
      "image/png": "[encoded data removed]",
      "text/plain": [
       "<Figure size 432x288 with 1 Axes>"
      ]
     },
     "metadata": {
      "needs_background": "light"
     },
     "output_type": "display_data"
    }
   ],
   "source": [
    "male = df[df['Gender'].str.match(r'\\b[Mm]ale')]\n",
    "maleMarks = male['HSSC-1']\n",
    "maleG = male['Gender']\n",
    "\n",
    "\n",
    "female = df[~df['Gender'].str.match(r'\\b[Mm]ale')]\n",
    "femaleMarks = female['HSSC-1']\n",
    "femaleG = female['Gender']\n",
    "\n",
    "maleMarks = maleMarks.tolist()\n",
    "femaleMarks = femaleMarks.tolist()\n",
    "maleG = maleG.tolist()\n",
    "femaleG = femaleG.tolist()\n",
    "\n",
    "maleMarks.extend(femaleMarks)\n",
    "maleG.extend(femaleG)\n",
    "\n",
    "marks = maleMarks\n",
    "gender = maleG\n",
    "\n",
    "plt.scatter(gender, marks)\n"
   ]
  },
  {
   "cell_type": "code",
   "execution_count": 176,
   "id": "2bdb580d",
   "metadata": {},
   "outputs": [
    {
     "data": {
      "image/png": "[encoded data removed]",
      "text/plain": [
       "<Figure size 432x288 with 1 Axes>"
      ]
     },
     "metadata": {
      "needs_background": "light"
     },
     "output_type": "display_data"
    }
   ],
   "source": [
    "def countFavs(favColor):\n",
    "    calculatedColors = []\n",
    "    colors = []\n",
    "    counts = []\n",
    "    for color1 in favColor:\n",
    "        if color1 in calculatedColors:\n",
    "            continue\n",
    "        count = 0\n",
    "        for color2 in favColor:\n",
    "            if color1 == color2:\n",
    "                count += 1\n",
    "        calculatedColors.append(color1)\n",
    "        colors.append(color1)\n",
    "        counts.append(count)\n",
    "    return [colors, counts]\n",
    "\n",
    "\n",
    "\n",
    "\n",
    "male = df[df['Gender'].str.match(r'\\b[Mm]ale')]\n",
    "maleFavColor = male['FavoriteColor']\n",
    "maleG = male['Gender']\n",
    "\n",
    "female = df[~df['Gender'].str.match(r'\\b[Mm]ale')]\n",
    "femaleFavColor = female['FavoriteColor']\n",
    "femaleG = female['Gender']\n",
    "\n",
    "\n",
    "maleFavColor = maleFavColor.tolist()\n",
    "femaleFavColor = femaleFavColor.tolist()\n",
    "maleG = maleG.tolist()\n",
    "femaleG = femaleG.tolist()\n",
    "\n",
    "\n",
    "\n",
    "x = countFavs(maleFavColor)\n",
    "colorsM = x[0]\n",
    "countsM = x[1]\n",
    "\n",
    "y = countFavs(femaleFavColor)\n",
    "colorsF = y[0]\n",
    "countsF = y[1]\n",
    "\n",
    "plt.bar(colorsM, countsM)\n",
    "plt.bar(colorsF, countsF)\n",
    "plt.xlabel(\"Colors\")\n",
    "plt.ylabel(\"Counts\")\n",
    "plt.show()\n"
   ]
  },
  {
   "cell_type": "code",
   "execution_count": 177,
   "id": "7d6cdae7",
   "metadata": {},
   "outputs": [
    {
     "data": {
      "text/plain": [
       "[<matplotlib.lines.Line2D at 0x211c1d367f0>]"
      ]
     },
     "execution_count": 177,
     "metadata": {},
     "output_type": "execute_result"
    },
    {
     "data": {
      "image/png": "[encoded data removed]",
      "text/plain": [
       "<Figure size 432x288 with 1 Axes>"
      ]
     },
     "metadata": {
      "needs_background": "light"
     },
     "output_type": "display_data"
    }
   ],
   "source": [
    "students = df['Name']\n",
    "birhMonth = df['BirthMonth']\n",
    "\n",
    "plt.plot(students, birhMonth)\n"
   ]
  },
  {
   "cell_type": "code",
   "execution_count": null,
   "id": "ab61848e",
   "metadata": {},
   "outputs": [],
   "source": []
  },
  {
   "cell_type": "markdown",
   "id": "38b9005d",
   "metadata": {},
   "source": [
    "Create a correlation matrix between HSSC-1 and HSSC-2 marks and then plot on a heatmap."
   ]
  },
  {
   "cell_type": "code",
   "execution_count": 180,
   "id": "78fa58bb",
   "metadata": {},
   "outputs": [
    {
     "name": "stdout",
     "output_type": "stream",
     "text": [
      "          HSSC-1    HSSC-2\n",
      "HSSC-1  1.000000  0.131248\n",
      "HSSC-2  0.131248  1.000000\n"
     ]
    },
    {
     "data": {
      "text/plain": [
       "<AxesSubplot:>"
      ]
     },
     "execution_count": 180,
     "metadata": {},
     "output_type": "execute_result"
    },
    {
     "data": {
      "image/png": "[encoded data removed]",
      "text/plain": [
       "<Figure size 432x288 with 2 Axes>"
      ]
     },
     "metadata": {
      "needs_background": "light"
     },
     "output_type": "display_data"
    }
   ],
   "source": [
    "import numpy as np\n",
    "import seaborn\n",
    "marks = df[['HSSC-1','HSSC-2' ]]\n",
    "corM = marks.corr()\n",
    "seaborn.heatmap(corM, annot=True, cmap='coolwarm')\n",
    "\n",
    "\n"
   ]
  },
  {
   "cell_type": "code",
   "execution_count": null,
   "id": "5157529f",
   "metadata": {},
   "outputs": [],
   "source": []
  }
 ],
 "metadata": {
  "kernelspec": {
   "display_name": "Python 3 (ipykernel)",
   "language": "python",
   "name": "python3"
  },
  "language_info": {
   "codemirror_mode": {
    "name": "ipython",
    "version": 3
   },
   "file_extension": ".py",
   "mimetype": "text/x-python",
   "name": "python",
   "nbconvert_exporter": "python",
   "pygments_lexer": "ipython3",
   "version": "3.9.12"
  }
 },
 "nbformat": 4,
 "nbformat_minor": 5
}
