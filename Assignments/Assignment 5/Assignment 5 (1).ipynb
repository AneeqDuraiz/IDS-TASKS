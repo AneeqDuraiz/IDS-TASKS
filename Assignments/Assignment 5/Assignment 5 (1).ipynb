{
 "cells": [
  {
   "cell_type": "code",
   "execution_count": 1,
   "id": "83e7e002",
   "metadata": {},
   "outputs": [
    {
     "name": "stderr",
     "output_type": "stream",
     "text": [
      "[nltk_data] Downloading package punkt to\n",
      "[nltk_data]     C:\\Users\\aneeq\\AppData\\Roaming\\nltk_data...\n",
      "[nltk_data]   Unzipping tokenizers\\punkt.zip.\n",
      "[nltk_data] Downloading package stopwords to\n",
      "[nltk_data]     C:\\Users\\aneeq\\AppData\\Roaming\\nltk_data...\n",
      "[nltk_data]   Package stopwords is already up-to-date!\n"
     ]
    }
   ],
   "source": [
    "from sklearn.feature_extraction.text import CountVectorizer, TfidfVectorizer\n",
    "import pandas as pd\n",
    "from fractions import Fraction\n",
    "import re\n",
    "import math\n",
    "import nltk\n",
    "from nltk.corpus import stopwords\n",
    "from nltk.tokenize import word_tokenize\n",
    "nltk.download('punkt')\n",
    "nltk.download('stopwords')\n",
    "import numpy as np"
   ]
  },
  {
   "cell_type": "code",
   "execution_count": 4,
   "id": "b8e58739",
   "metadata": {},
   "outputs": [],
   "source": [
    "df = pd.DataFrame([\"sunshine state enjoy sunshine\",\n",
    "                  \"brown fox jump high brown fox run\",\n",
    "                  \"sunshine state fox run fast\"], \n",
    "                 index = [\"S1\", \"S2\", \"S3\"])\n"
   ]
  },
  {
   "cell_type": "code",
   "execution_count": 6,
   "id": "ff89bc29",
   "metadata": {},
   "outputs": [
    {
     "data": {
      "text/plain": [
       "S1         sunshine state enjoy sunshine\n",
       "S2    brown fox jump high, brown fox run\n",
       "S3           sunshine state fox run fast\n",
       "Name: 0, dtype: object"
      ]
     },
     "execution_count": 6,
     "metadata": {},
     "output_type": "execute_result"
    }
   ],
   "source": [
    "df[0]"
   ]
  },
  {
   "cell_type": "markdown",
   "id": "5e6dbebd",
   "metadata": {},
   "source": [
    "## Bag of Words"
   ]
  },
  {
   "cell_type": "code",
   "execution_count": 8,
   "id": "20b0fe01",
   "metadata": {},
   "outputs": [],
   "source": [
    "vectorizer = CountVectorizer()\n",
    "bagOfWords= vectorizer.fit_transform(df[0])"
   ]
  },
  {
   "cell_type": "code",
   "execution_count": 9,
   "id": "0b2be997",
   "metadata": {},
   "outputs": [
    {
     "name": "stdout",
     "output_type": "stream",
     "text": [
      "[[0 1 0 0 0 0 0 1 2]\n",
      " [2 0 0 2 1 1 1 0 0]\n",
      " [0 0 1 1 0 0 1 1 1]]\n"
     ]
    }
   ],
   "source": [
    "print(bagOfWords.toarray())"
   ]
  },
  {
   "cell_type": "markdown",
   "id": "9984d12f",
   "metadata": {},
   "source": [
    "## TF (Term Frequency)"
   ]
  },
  {
   "cell_type": "code",
   "execution_count": 24,
   "id": "2cb275cb",
   "metadata": {},
   "outputs": [],
   "source": [
    "tfidf_vectorizer = TfidfVectorizer(use_idf=False)\n",
    "result = tfidf_vectorizer.fit_transform(df[0])"
   ]
  },
  {
   "cell_type": "code",
   "execution_count": 14,
   "id": "2cb2af1f",
   "metadata": {
    "scrolled": true
   },
   "outputs": [
    {
     "data": {
      "text/html": [
       "<div>\n",
       "<style scoped>\n",
       "    .dataframe tbody tr th:only-of-type {\n",
       "        vertical-align: middle;\n",
       "    }\n",
       "\n",
       "    .dataframe tbody tr th {\n",
       "        vertical-align: top;\n",
       "    }\n",
       "\n",
       "    .dataframe thead th {\n",
       "        text-align: right;\n",
       "    }\n",
       "</style>\n",
       "<table border=\"1\" class=\"dataframe\">\n",
       "  <thead>\n",
       "    <tr style=\"text-align: right;\">\n",
       "      <th></th>\n",
       "      <th>brown</th>\n",
       "      <th>enjoy</th>\n",
       "      <th>fast</th>\n",
       "      <th>fox</th>\n",
       "      <th>high</th>\n",
       "      <th>jump</th>\n",
       "      <th>run</th>\n",
       "      <th>state</th>\n",
       "      <th>sunshine</th>\n",
       "    </tr>\n",
       "  </thead>\n",
       "  <tbody>\n",
       "    <tr>\n",
       "      <th>s1</th>\n",
       "      <td>0.000000</td>\n",
       "      <td>0.408248</td>\n",
       "      <td>0.000000</td>\n",
       "      <td>0.000000</td>\n",
       "      <td>0.000000</td>\n",
       "      <td>0.000000</td>\n",
       "      <td>0.000000</td>\n",
       "      <td>0.408248</td>\n",
       "      <td>0.816497</td>\n",
       "    </tr>\n",
       "    <tr>\n",
       "      <th>s2</th>\n",
       "      <td>0.603023</td>\n",
       "      <td>0.000000</td>\n",
       "      <td>0.000000</td>\n",
       "      <td>0.603023</td>\n",
       "      <td>0.301511</td>\n",
       "      <td>0.301511</td>\n",
       "      <td>0.301511</td>\n",
       "      <td>0.000000</td>\n",
       "      <td>0.000000</td>\n",
       "    </tr>\n",
       "    <tr>\n",
       "      <th>s3</th>\n",
       "      <td>0.000000</td>\n",
       "      <td>0.000000</td>\n",
       "      <td>0.447214</td>\n",
       "      <td>0.447214</td>\n",
       "      <td>0.000000</td>\n",
       "      <td>0.000000</td>\n",
       "      <td>0.447214</td>\n",
       "      <td>0.447214</td>\n",
       "      <td>0.447214</td>\n",
       "    </tr>\n",
       "  </tbody>\n",
       "</table>\n",
       "</div>"
      ],
      "text/plain": [
       "       brown     enjoy      fast       fox      high      jump       run  \\\n",
       "s1  0.000000  0.408248  0.000000  0.000000  0.000000  0.000000  0.000000   \n",
       "s2  0.603023  0.000000  0.000000  0.603023  0.301511  0.301511  0.301511   \n",
       "s3  0.000000  0.000000  0.447214  0.447214  0.000000  0.000000  0.447214   \n",
       "\n",
       "       state  sunshine  \n",
       "s1  0.408248  0.816497  \n",
       "s2  0.000000  0.000000  \n",
       "s3  0.447214  0.447214  "
      ]
     },
     "execution_count": 14,
     "metadata": {},
     "output_type": "execute_result"
    }
   ],
   "source": [
    "tfidf_df = pd.DataFrame(result.toarray(), index=[\"S1\",\"S2\",\"S3\"], columns=tfidf_vectorizer.get_feature_names_out())\n",
    "tfidf_df"
   ]
  },
  {
   "cell_type": "markdown",
   "id": "72c11efc",
   "metadata": {},
   "source": [
    "## IDF (Inverse Document Frequency) (Using sklearn)"
   ]
  },
  {
   "cell_type": "code",
   "execution_count": 28,
   "id": "e4b6d5f7",
   "metadata": {},
   "outputs": [],
   "source": [
    "tfidf_vectorizer2 = TfidfVectorizer(use_idf=True)\n",
    "result = tfidf_vectorizer2.fit_transform(df[0])"
   ]
  },
  {
   "cell_type": "code",
   "execution_count": 30,
   "id": "54ccfb24",
   "metadata": {},
   "outputs": [
    {
     "name": "stdout",
     "output_type": "stream",
     "text": [
      "\n",
      "idf values:\n",
      "brown : 1.6931471805599454\n",
      "enjoy : 1.6931471805599454\n",
      "fast : 1.6931471805599454\n",
      "fox : 1.2876820724517808\n",
      "high : 1.6931471805599454\n",
      "jump : 1.6931471805599454\n",
      "run : 1.2876820724517808\n",
      "state : 1.2876820724517808\n",
      "sunshine : 1.2876820724517808\n"
     ]
    }
   ],
   "source": [
    "\n",
    "print('\\nidf values:')\n",
    "for ele1, ele2 in zip(tfidf_vectorizer2.get_feature_names_out(),tfidf_vectorizer2.idf_):\n",
    "    print(ele1, ':', ele2)"
   ]
  },
  {
   "cell_type": "markdown",
   "id": "6d309ef8",
   "metadata": {},
   "source": [
    "## TF-IDF"
   ]
  },
  {
   "cell_type": "code",
   "execution_count": 31,
   "id": "cbdadf5f",
   "metadata": {
    "scrolled": true
   },
   "outputs": [
    {
     "data": {
      "text/html": [
       "<div>\n",
       "<style scoped>\n",
       "    .dataframe tbody tr th:only-of-type {\n",
       "        vertical-align: middle;\n",
       "    }\n",
       "\n",
       "    .dataframe tbody tr th {\n",
       "        vertical-align: top;\n",
       "    }\n",
       "\n",
       "    .dataframe thead th {\n",
       "        text-align: right;\n",
       "    }\n",
       "</style>\n",
       "<table border=\"1\" class=\"dataframe\">\n",
       "  <thead>\n",
       "    <tr style=\"text-align: right;\">\n",
       "      <th></th>\n",
       "      <th>brown</th>\n",
       "      <th>enjoy</th>\n",
       "      <th>fast</th>\n",
       "      <th>fox</th>\n",
       "      <th>high</th>\n",
       "      <th>jump</th>\n",
       "      <th>run</th>\n",
       "      <th>state</th>\n",
       "      <th>sunshine</th>\n",
       "    </tr>\n",
       "  </thead>\n",
       "  <tbody>\n",
       "    <tr>\n",
       "      <th>s1</th>\n",
       "      <td>0.000000</td>\n",
       "      <td>0.50689</td>\n",
       "      <td>0.000000</td>\n",
       "      <td>0.000000</td>\n",
       "      <td>0.000000</td>\n",
       "      <td>0.000000</td>\n",
       "      <td>0.000000</td>\n",
       "      <td>0.385503</td>\n",
       "      <td>0.771006</td>\n",
       "    </tr>\n",
       "    <tr>\n",
       "      <th>s2</th>\n",
       "      <td>0.670703</td>\n",
       "      <td>0.00000</td>\n",
       "      <td>0.000000</td>\n",
       "      <td>0.510087</td>\n",
       "      <td>0.335352</td>\n",
       "      <td>0.335352</td>\n",
       "      <td>0.255044</td>\n",
       "      <td>0.000000</td>\n",
       "      <td>0.000000</td>\n",
       "    </tr>\n",
       "    <tr>\n",
       "      <th>s3</th>\n",
       "      <td>0.000000</td>\n",
       "      <td>0.00000</td>\n",
       "      <td>0.549351</td>\n",
       "      <td>0.417796</td>\n",
       "      <td>0.000000</td>\n",
       "      <td>0.000000</td>\n",
       "      <td>0.417796</td>\n",
       "      <td>0.417796</td>\n",
       "      <td>0.417796</td>\n",
       "    </tr>\n",
       "  </tbody>\n",
       "</table>\n",
       "</div>"
      ],
      "text/plain": [
       "       brown    enjoy      fast       fox      high      jump       run  \\\n",
       "s1  0.000000  0.50689  0.000000  0.000000  0.000000  0.000000  0.000000   \n",
       "s2  0.670703  0.00000  0.000000  0.510087  0.335352  0.335352  0.255044   \n",
       "s3  0.000000  0.00000  0.549351  0.417796  0.000000  0.000000  0.417796   \n",
       "\n",
       "       state  sunshine  \n",
       "s1  0.385503  0.771006  \n",
       "s2  0.000000  0.000000  \n",
       "s3  0.417796  0.417796  "
      ]
     },
     "execution_count": 31,
     "metadata": {},
     "output_type": "execute_result"
    }
   ],
   "source": [
    "TFIDF = pd.DataFrame(result.toarray(), index=[\"S1\",\"S2\",\"S3\"], columns=tfidf_vectorizer.get_feature_names_out())\n",
    "TFIDF"
   ]
  },
  {
   "cell_type": "markdown",
   "id": "bc572d09",
   "metadata": {},
   "source": [
    "## Cosine Similarity b/w S1 & S3"
   ]
  },
  {
   "cell_type": "code",
   "execution_count": 33,
   "id": "e635108e",
   "metadata": {},
   "outputs": [
    {
     "name": "stdout",
     "output_type": "stream",
     "text": [
      "Cosine similarity:  0.5163977794943222\n"
     ]
    }
   ],
   "source": [
    "s1_list = word_tokenize(\"sunshine state enjoy sunshine\")\n",
    "s3_list = word_tokenize(\"sunshine state fox run fast\")\n",
    "\n",
    "sw = stopwords.words('english')\n",
    "l1 =[];l2 =[]\n",
    "\n",
    "s1_set = {w for w in s1_list if not w in sw}\n",
    "s3_set = {w for w in s3_list if not w in sw}\n",
    "\n",
    "rvector = s1_set.union(s3_set)\n",
    "for w in rvector:\n",
    "    if w in s1_set: l1.append(1) \n",
    "    else: l1.append(0)\n",
    "    if w in s3_set: l2.append(1)\n",
    "    else: l2.append(0)\n",
    "c = 0\n",
    "\n",
    "for i in range(len(rvector)):\n",
    "        c+= l1[i]*l2[i]\n",
    "cosine = c / float((sum(l1)*sum(l2))**0.5)\n",
    "print(\"Cosine similarity: \", cosine)"
   ]
  }
 ],
 "metadata": {
  "kernelspec": {
   "display_name": "Python 3 (ipykernel)",
   "language": "python",
   "name": "python3"
  },
  "language_info": {
   "codemirror_mode": {
    "name": "ipython",
    "version": 3
   },
   "file_extension": ".py",
   "mimetype": "text/x-python",
   "name": "python",
   "nbconvert_exporter": "python",
   "pygments_lexer": "ipython3",
   "version": "3.9.12"
  }
 },
 "nbformat": 4,
 "nbformat_minor": 5
}
