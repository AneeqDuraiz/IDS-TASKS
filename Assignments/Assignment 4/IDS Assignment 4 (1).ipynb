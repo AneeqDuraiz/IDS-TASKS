{
 "cells": [
  {
   "cell_type": "code",
   "execution_count": 2,
   "id": "8ab9e23c",
   "metadata": {},
   "outputs": [],
   "source": [
    "import numpy as np\n",
    "import pandas as pd\n",
    "import seaborn as sns\n",
    "import matplotlib.pyplot as plt\n",
    "from sklearn.model_selection import train_test_split, ShuffleSplit, LeavePOut, cross_val_score\n",
    "from sklearn.preprocessing import LabelEncoder\n",
    "from sklearn import metrics\n",
    "from sklearn.feature_selection import mutual_info_classif as MIC\n",
    "from sklearn.neural_network import MLPClassifier\n",
    "from sklearn.tree import DecisionTreeClassifier\n",
    "from sklearn.naive_bayes import GaussianNB\n",
    "from sklearn.ensemble import RandomForestClassifier\n",
    "from sklearn.svm import SVC\n"
   ]
  },
  {
   "cell_type": "markdown",
   "id": "94937e14",
   "metadata": {},
   "source": [
    "  # Loading data into pandas dataframe "
   ]
  },
  {
   "cell_type": "code",
   "execution_count": 3,
   "id": "d66764db",
   "metadata": {
    "scrolled": true
   },
   "outputs": [
    {
     "data": {
      "text/html": [
       "<div>\n",
       "<style scoped>\n",
       "    .dataframe tbody tr th:only-of-type {\n",
       "        vertical-align: middle;\n",
       "    }\n",
       "\n",
       "    .dataframe tbody tr th {\n",
       "        vertical-align: top;\n",
       "    }\n",
       "\n",
       "    .dataframe thead th {\n",
       "        text-align: right;\n",
       "    }\n",
       "</style>\n",
       "<table border=\"1\" class=\"dataframe\">\n",
       "  <thead>\n",
       "    <tr style=\"text-align: right;\">\n",
       "      <th></th>\n",
       "      <th>height</th>\n",
       "      <th>weight</th>\n",
       "      <th>beard</th>\n",
       "      <th>hair_length</th>\n",
       "      <th>shoe_size</th>\n",
       "      <th>scarf</th>\n",
       "      <th>eye_color</th>\n",
       "      <th>gender</th>\n",
       "    </tr>\n",
       "  </thead>\n",
       "  <tbody>\n",
       "    <tr>\n",
       "      <th>0</th>\n",
       "      <td>71</td>\n",
       "      <td>176</td>\n",
       "      <td>yes</td>\n",
       "      <td>short</td>\n",
       "      <td>44</td>\n",
       "      <td>no</td>\n",
       "      <td>black</td>\n",
       "      <td>male</td>\n",
       "    </tr>\n",
       "    <tr>\n",
       "      <th>1</th>\n",
       "      <td>68</td>\n",
       "      <td>165</td>\n",
       "      <td>no</td>\n",
       "      <td>bald</td>\n",
       "      <td>41</td>\n",
       "      <td>no</td>\n",
       "      <td>black</td>\n",
       "      <td>male</td>\n",
       "    </tr>\n",
       "    <tr>\n",
       "      <th>2</th>\n",
       "      <td>62</td>\n",
       "      <td>132</td>\n",
       "      <td>no</td>\n",
       "      <td>medium</td>\n",
       "      <td>37</td>\n",
       "      <td>yes</td>\n",
       "      <td>blue</td>\n",
       "      <td>female</td>\n",
       "    </tr>\n",
       "    <tr>\n",
       "      <th>3</th>\n",
       "      <td>65</td>\n",
       "      <td>138</td>\n",
       "      <td>no</td>\n",
       "      <td>long</td>\n",
       "      <td>38</td>\n",
       "      <td>no</td>\n",
       "      <td>gray</td>\n",
       "      <td>female</td>\n",
       "    </tr>\n",
       "    <tr>\n",
       "      <th>4</th>\n",
       "      <td>70</td>\n",
       "      <td>197</td>\n",
       "      <td>yes</td>\n",
       "      <td>medium</td>\n",
       "      <td>43</td>\n",
       "      <td>no</td>\n",
       "      <td>gray</td>\n",
       "      <td>male</td>\n",
       "    </tr>\n",
       "    <tr>\n",
       "      <th>...</th>\n",
       "      <td>...</td>\n",
       "      <td>...</td>\n",
       "      <td>...</td>\n",
       "      <td>...</td>\n",
       "      <td>...</td>\n",
       "      <td>...</td>\n",
       "      <td>...</td>\n",
       "      <td>...</td>\n",
       "    </tr>\n",
       "    <tr>\n",
       "      <th>75</th>\n",
       "      <td>65</td>\n",
       "      <td>99</td>\n",
       "      <td>no</td>\n",
       "      <td>short</td>\n",
       "      <td>39</td>\n",
       "      <td>yes</td>\n",
       "      <td>green</td>\n",
       "      <td>female</td>\n",
       "    </tr>\n",
       "    <tr>\n",
       "      <th>76</th>\n",
       "      <td>61</td>\n",
       "      <td>98</td>\n",
       "      <td>no</td>\n",
       "      <td>short</td>\n",
       "      <td>37</td>\n",
       "      <td>no</td>\n",
       "      <td>brown</td>\n",
       "      <td>female</td>\n",
       "    </tr>\n",
       "    <tr>\n",
       "      <th>77</th>\n",
       "      <td>67</td>\n",
       "      <td>119</td>\n",
       "      <td>yes</td>\n",
       "      <td>short</td>\n",
       "      <td>40</td>\n",
       "      <td>no</td>\n",
       "      <td>black</td>\n",
       "      <td>male</td>\n",
       "    </tr>\n",
       "    <tr>\n",
       "      <th>78</th>\n",
       "      <td>70</td>\n",
       "      <td>190</td>\n",
       "      <td>yes</td>\n",
       "      <td>medium</td>\n",
       "      <td>43</td>\n",
       "      <td>no</td>\n",
       "      <td>gray</td>\n",
       "      <td>male</td>\n",
       "    </tr>\n",
       "    <tr>\n",
       "      <th>79</th>\n",
       "      <td>62</td>\n",
       "      <td>142</td>\n",
       "      <td>yes</td>\n",
       "      <td>long</td>\n",
       "      <td>37</td>\n",
       "      <td>no</td>\n",
       "      <td>blue</td>\n",
       "      <td>female</td>\n",
       "    </tr>\n",
       "  </tbody>\n",
       "</table>\n",
       "<p>80 rows × 8 columns</p>\n",
       "</div>"
      ],
      "text/plain": [
       "    height  weight beard hair_length  shoe_size scarf eye_color  gender\n",
       "0       71     176   yes       short         44    no     black    male\n",
       "1       68     165    no        bald         41    no     black    male\n",
       "2       62     132    no      medium         37   yes      blue  female\n",
       "3       65     138    no        long         38    no      gray  female\n",
       "4       70     197   yes      medium         43    no      gray    male\n",
       "..     ...     ...   ...         ...        ...   ...       ...     ...\n",
       "75      65      99    no       short         39   yes     green  female\n",
       "76      61      98    no       short         37    no     brown  female\n",
       "77      67     119   yes       short         40    no     black    male\n",
       "78      70     190   yes      medium         43    no      gray    male\n",
       "79      62     142   yes        long         37    no      blue  female\n",
       "\n",
       "[80 rows x 8 columns]"
      ]
     },
     "execution_count": 3,
     "metadata": {},
     "output_type": "execute_result"
    }
   ],
   "source": [
    "df=pd.read_csv('gender-prediction.csv')\n",
    "df"
   ]
  },
  {
   "cell_type": "markdown",
   "id": "40b01b0d",
   "metadata": {},
   "source": [
    "Finding male female ratio"
   ]
  },
  {
   "cell_type": "code",
   "execution_count": null,
   "id": "92714166",
   "metadata": {},
   "outputs": [],
   "source": [
    "male = len(df[df['gender'] == 'male'])\n",
    "female = len(df[df['gender'] == 'female'])\n",
    "\n",
    "maleRatio = male/len(df['gender'])\n",
    "print(maleRatio*100)\n",
    "\n",
    "femaleRatio = female/len(df['gender'])\n",
    "print(femaleRatio*100)"
   ]
  },
  {
   "cell_type": "markdown",
   "id": "febdbfdd",
   "metadata": {},
   "source": [
    "# Applying Encoding"
   ]
  },
  {
   "cell_type": "code",
   "execution_count": null,
   "id": "4a3fe8e9",
   "metadata": {},
   "outputs": [],
   "source": [
    "label_encoder = LabelEncoder()\n",
    "df['beard']= label_encoder.fit_transform(df['beard'])\n",
    "df['hair_length']= label_encoder.fit_transform(df['hair_length'])\n",
    "df['scarf']= label_encoder.fit_transform(df['scarf'])\n",
    "df['eye_color']= label_encoder.fit_transform(df['eye_color'])\n",
    "df['gender']= label_encoder.fit_transform(df['gender'])"
   ]
  },
  {
   "cell_type": "markdown",
   "id": "ece38727",
   "metadata": {},
   "source": [
    "## Seprating input and target columns"
   ]
  },
  {
   "cell_type": "code",
   "execution_count": null,
   "id": "5d35b9eb",
   "metadata": {},
   "outputs": [],
   "source": [
    "X = df.drop(columns=['gender'])\n",
    "y = df['gender']"
   ]
  },
  {
   "cell_type": "markdown",
   "id": "92312a5a",
   "metadata": {},
   "source": [
    "## Appling Train/Test Split"
   ]
  },
  {
   "cell_type": "code",
   "execution_count": null,
   "id": "cdd725a4",
   "metadata": {},
   "outputs": [],
   "source": [
    "X_train, X_test, y_train, y_test = train_test_split(X, y, test_size=0.33, stratify=df['gender'], random_state = 8)"
   ]
  },
  {
   "cell_type": "markdown",
   "id": "31984024",
   "metadata": {},
   "source": [
    "# 1. Random Forest Alogorithm"
   ]
  },
  {
   "cell_type": "code",
   "execution_count": null,
   "id": "c0032d17",
   "metadata": {},
   "outputs": [],
   "source": [
    "randomforest = RandomForestClassifier()\n",
    "randomforest.fit(X_train, y_train)\n",
    "prediction = randomforest.predict(X_test)"
   ]
  },
  {
   "cell_type": "code",
   "execution_count": null,
   "id": "3e840d52",
   "metadata": {},
   "outputs": [],
   "source": [
    "metrics.accuracy_score(y_test, prediction)"
   ]
  },
  {
   "cell_type": "code",
   "execution_count": null,
   "id": "7c5b74c5",
   "metadata": {},
   "outputs": [],
   "source": [
    "metrics.confusion_matrix(y_test, prediction)"
   ]
  },
  {
   "cell_type": "markdown",
   "id": "8995aff9",
   "metadata": {},
   "source": [
    "# 2. SVM Algorithm"
   ]
  },
  {
   "cell_type": "code",
   "execution_count": null,
   "id": "90c4f8d5",
   "metadata": {},
   "outputs": [],
   "source": [
    "svm = SVC()\n",
    "svm.fit(X_train, y_train)\n",
    "prediction = svm.predict(X_test)"
   ]
  },
  {
   "cell_type": "code",
   "execution_count": null,
   "id": "d857f045",
   "metadata": {},
   "outputs": [],
   "source": [
    "metrics.accuracy_score(y_test, prediction)"
   ]
  },
  {
   "cell_type": "code",
   "execution_count": null,
   "id": "55e2cb07",
   "metadata": {},
   "outputs": [],
   "source": [
    "metrics.confusion_matrix(y_test, prediction)"
   ]
  },
  {
   "cell_type": "markdown",
   "id": "ab1a23d4",
   "metadata": {},
   "source": [
    "# 3. Multilayer Perceptron\n"
   ]
  },
  {
   "cell_type": "code",
   "execution_count": null,
   "id": "08cbf675",
   "metadata": {},
   "outputs": [],
   "source": [
    "mlp = MLPClassifier()"
   ]
  },
  {
   "cell_type": "code",
   "execution_count": null,
   "id": "428b528a",
   "metadata": {},
   "outputs": [],
   "source": [
    "mlp.fit(X_train, y_train)"
   ]
  },
  {
   "cell_type": "code",
   "execution_count": null,
   "id": "617e65b7",
   "metadata": {},
   "outputs": [],
   "source": [
    "prediction = mlp.predict(X_test)"
   ]
  },
  {
   "cell_type": "code",
   "execution_count": null,
   "id": "1fe26538",
   "metadata": {},
   "outputs": [],
   "source": [
    "metrics.accuracy_score(y_test, prediction)"
   ]
  },
  {
   "cell_type": "code",
   "execution_count": null,
   "id": "6159bb59",
   "metadata": {},
   "outputs": [],
   "source": [
    "metrics.confusion_matrix(y_test, prediction)"
   ]
  },
  {
   "cell_type": "markdown",
   "id": "0d7e5f75",
   "metadata": {},
   "source": [
    "# Using 80/20 train test Split"
   ]
  },
  {
   "cell_type": "code",
   "execution_count": null,
   "id": "8b48017b",
   "metadata": {},
   "outputs": [],
   "source": []
  },
  {
   "cell_type": "code",
   "execution_count": null,
   "id": "84a96540",
   "metadata": {},
   "outputs": [],
   "source": [
    "X_train, X_test, y_train, y_test = train_test_split(X, y, test_size=0.20, stratify=df['gender'], random_state = 8)"
   ]
  },
  {
   "cell_type": "code",
   "execution_count": null,
   "id": "fc6fc681",
   "metadata": {},
   "outputs": [],
   "source": [
    "randomforest = RandomForestClassifier()\n",
    "randomforest.fit(X_train, y_train)\n",
    "prediction = randomforest.predict(X_test)\n",
    "print(metrics.accuracy_score(y_test, prediction))\n",
    "metrics.confusion_matrix(y_test, prediction)"
   ]
  },
  {
   "cell_type": "code",
   "execution_count": null,
   "id": "f7c38e3d",
   "metadata": {},
   "outputs": [],
   "source": [
    "svm = SVC()\n",
    "svm.fit(X_train, y_train)\n",
    "prediction = svm.predict(X_test)\n",
    "print(metrics.accuracy_score(y_test, prediction))\n",
    "metrics.confusion_matrix(y_test, prediction)"
   ]
  },
  {
   "cell_type": "code",
   "execution_count": null,
   "id": "e25f8a74",
   "metadata": {},
   "outputs": [],
   "source": [
    "mlp = MLPClassifier()\n",
    "mlp.fit(X_train, y_train)\n",
    "prediction = mlp.predict(X_test)\n",
    "print(metrics.accuracy_score(y_test, prediction))\n",
    "metrics.confusion_matrix(y_test, prediction)"
   ]
  },
  {
   "cell_type": "markdown",
   "id": "ff8fc9cc",
   "metadata": {},
   "source": [
    "## Removing powerful attributes and training models again."
   ]
  },
  {
   "cell_type": "code",
   "execution_count": null,
   "id": "deac0d2b",
   "metadata": {
    "scrolled": false
   },
   "outputs": [],
   "source": [
    "df"
   ]
  },
  {
   "cell_type": "code",
   "execution_count": null,
   "id": "fb7beef0",
   "metadata": {},
   "outputs": [],
   "source": [
    "\n",
    "\n",
    "X = df.drop(columns=['gender','height','shoe_size'])\n",
    "y = df['gender']\n",
    "     "
   ]
  },
  {
   "cell_type": "code",
   "execution_count": null,
   "id": "98e17e5e",
   "metadata": {},
   "outputs": [],
   "source": [
    "X_train, X_test, y_train, y_test = train_test_split(X, y, test_size=0.33, stratify=df['gender'], random_state = 8)"
   ]
  },
  {
   "cell_type": "code",
   "execution_count": null,
   "id": "216a83f5",
   "metadata": {},
   "outputs": [],
   "source": [
    "randomforest = RandomForestClassifier()\n",
    "randomforest.fit(X_train, y_train)\n",
    "prediction = randomforest.predict(X_test)\n",
    "print(metrics.accuracy_score(y_test, prediction))\n",
    "metrics.confusion_matrix(y_test, prediction)"
   ]
  },
  {
   "cell_type": "code",
   "execution_count": null,
   "id": "e05334f2",
   "metadata": {},
   "outputs": [],
   "source": [
    "svm = SVC()\n",
    "svm.fit(X_train, y_train)\n",
    "prediction = svm.predict(X_test)\n",
    "print(metrics.accuracy_score(y_test, prediction))\n",
    "metrics.confusion_matrix(y_test, prediction)"
   ]
  },
  {
   "cell_type": "code",
   "execution_count": null,
   "id": "ca816a0e",
   "metadata": {},
   "outputs": [],
   "source": [
    "mlp = MLPClassifier()\n",
    "mlp.fit(X_train, y_train)\n",
    "prediction = mlp.predict(X_test)\n",
    "print(metrics.accuracy_score(y_test, prediction))\n",
    "metrics.confusion_matrix(y_test, prediction)"
   ]
  },
  {
   "cell_type": "code",
   "execution_count": null,
   "id": "715daf41",
   "metadata": {},
   "outputs": [],
   "source": []
  },
  {
   "cell_type": "markdown",
   "id": "236334d2",
   "metadata": {},
   "source": [
    "# Decision Tree"
   ]
  },
  {
   "cell_type": "code",
   "execution_count": null,
   "id": "d756241a",
   "metadata": {},
   "outputs": [],
   "source": [
    "dt = DecisionTreeClassifier()"
   ]
  },
  {
   "cell_type": "code",
   "execution_count": null,
   "id": "8be1e83e",
   "metadata": {},
   "outputs": [],
   "source": [
    "X = df.drop(columns=['gender'])\n",
    "y = df['gender']"
   ]
  },
  {
   "cell_type": "markdown",
   "id": "73b4aa39",
   "metadata": {},
   "source": [
    "## Monte Carlo Cross Validation\n"
   ]
  },
  {
   "cell_type": "code",
   "execution_count": null,
   "id": "ff26e44e",
   "metadata": {},
   "outputs": [],
   "source": [
    "s_split=ShuffleSplit(test_size=0.3,train_size=0.2,n_splits=10)\n",
    "scores=cross_val_score(randomforest, X, y, cv=s_split, scoring='f1')"
   ]
  },
  {
   "cell_type": "code",
   "execution_count": null,
   "id": "60bde330",
   "metadata": {},
   "outputs": [],
   "source": []
  },
  {
   "cell_type": "code",
   "execution_count": null,
   "id": "f33fffd0",
   "metadata": {},
   "outputs": [],
   "source": [
    "print(f\"F1 Score :\\n {scores}\")"
   ]
  },
  {
   "cell_type": "code",
   "execution_count": null,
   "id": "87994f55",
   "metadata": {},
   "outputs": [],
   "source": [
    "print(f\"F1 Score :\\n {scores.mean}\")\n",
    "     "
   ]
  },
  {
   "cell_type": "markdown",
   "id": "953cbc67",
   "metadata": {},
   "source": [
    "## Leave p out Cross Validation"
   ]
  },
  {
   "cell_type": "code",
   "execution_count": null,
   "id": "e48dc59f",
   "metadata": {},
   "outputs": [],
   "source": [
    "lpo=LeavePOut(p=2)"
   ]
  },
  {
   "cell_type": "code",
   "execution_count": null,
   "id": "3686128b",
   "metadata": {},
   "outputs": [],
   "source": [
    "lpo.get_n_splits(X)"
   ]
  },
  {
   "cell_type": "code",
   "execution_count": null,
   "id": "c5258565",
   "metadata": {},
   "outputs": [],
   "source": [
    "scores=cross_val_score(dt, X, y, cv=lpo, scoring='f1')"
   ]
  },
  {
   "cell_type": "code",
   "execution_count": null,
   "id": "41718e8f",
   "metadata": {},
   "outputs": [],
   "source": [
    "print(f\"F1 Score :\\n {scores}\")"
   ]
  },
  {
   "cell_type": "code",
   "execution_count": null,
   "id": "5c4314e0",
   "metadata": {},
   "outputs": [],
   "source": [
    "print(f\"F1 Score :\\n {scores.mean()}\")"
   ]
  },
  {
   "cell_type": "markdown",
   "id": "0ded6856",
   "metadata": {},
   "source": [
    "## Adding new Instances"
   ]
  },
  {
   "cell_type": "code",
   "execution_count": 61,
   "id": "479fed8d",
   "metadata": {},
   "outputs": [],
   "source": [
    "data = df"
   ]
  },
  {
   "cell_type": "code",
   "execution_count": 62,
   "id": "a94cd44b",
   "metadata": {},
   "outputs": [],
   "source": [
    "test_data = pd.DataFrame([\n",
    "              [69, 167, 'no', 'short', 43, 'no', 'brown', 'female'],\n",
    "              [62, 125, 'no', 'long', 37, 'yes', 'black', 'female'],\n",
    "              [73, 181, 'yes', 'medium', 42, 'no', 'black', 'male'],\n",
    "              [65, 102, 'no', 'long', 36, 'no', 'grey', 'female'],\n",
    "    [77, 180, 'yes', 'short', 44, 'no', 'blue', 'male'],\n",
    "              \n",
    "            ],\n",
    "           columns=['height', 'weight', 'beard', 'hair_length', 'shoe_size', 'scarf','eye_color', 'gender'],\n",
    "           index=[80, 81, 82, 83, 84])\n",
    "\n",
    "\n"
   ]
  },
  {
   "cell_type": "code",
   "execution_count": 63,
   "id": "2e6982a1",
   "metadata": {},
   "outputs": [],
   "source": [
    "label_encoder = LabelEncoder()\n",
    "\n",
    "data['scarf']= label_encoder.fit_transform(data['scarf'])\n",
    "data['eye_color']= label_encoder.fit_transform(data['eye_color'])\n",
    "data['gender']= label_encoder.fit_transform(data['gender'])\n",
    "data['shoe_size']= label_encoder.fit_transform(data['shoe_size'])\n",
    "data['height']= label_encoder.fit_transform(data['height'])\n",
    "data['weight']= label_encoder.fit_transform(data['weight'])\n",
    "data['beard']= label_encoder.fit_transform(data['beard'])\n",
    "data['hair_length']= label_encoder.fit_transform(data['hair_length'])\n",
    "\n",
    "test_data['height']= label_encoder.fit_transform(test_data['height'])\n",
    "test_data['weight']= label_encoder.fit_transform(test_data['weight'])\n",
    "test_data['beard']= label_encoder.fit_transform(test_data['beard'])\n",
    "test_data['hair_length']= label_encoder.fit_transform(test_data['hair_length'])\n",
    "test_data['shoe_size']= label_encoder.fit_transform(test_data['shoe_size'])\n",
    "test_data['scarf']= label_encoder.fit_transform(test_data['scarf'])\n",
    "test_data['eye_color']= label_encoder.fit_transform(test_data['eye_color'])\n",
    "test_data['gender']= label_encoder.fit_transform(test_data['gender'])\n"
   ]
  },
  {
   "cell_type": "code",
   "execution_count": 64,
   "id": "be57ba31",
   "metadata": {},
   "outputs": [],
   "source": [
    "X_train = data.drop(columns=['gender'])\n",
    "y_train = data['gender']\n",
    "X_test = test_data.drop(columns=['gender'])\n",
    "y_test = test_data['gender']"
   ]
  },
  {
   "cell_type": "code",
   "execution_count": 65,
   "id": "934d22b1",
   "metadata": {},
   "outputs": [],
   "source": [
    "nb = GaussianNB()\n"
   ]
  },
  {
   "cell_type": "code",
   "execution_count": 66,
   "id": "fcdaa182",
   "metadata": {},
   "outputs": [
    {
     "data": {
      "text/plain": [
       "GaussianNB()"
      ]
     },
     "execution_count": 66,
     "metadata": {},
     "output_type": "execute_result"
    }
   ],
   "source": [
    "nb.fit(X_train, y_train)"
   ]
  },
  {
   "cell_type": "code",
   "execution_count": 67,
   "id": "9a950364",
   "metadata": {},
   "outputs": [],
   "source": [
    "prediction = nb.predict(X_test)"
   ]
  },
  {
   "cell_type": "code",
   "execution_count": 68,
   "id": "21ffdf8b",
   "metadata": {},
   "outputs": [
    {
     "name": "stdout",
     "output_type": "stream",
     "text": [
      "Accuracy =  1.0\n",
      "Precision =  1.0\n",
      "Recall =  1.0\n"
     ]
    }
   ],
   "source": [
    "\n",
    "print(\"Accuracy = \", metrics.accuracy_score(y_test, prediction))\n",
    "print(\"Precision = \", metrics.precision_score(y_test, prediction))\n",
    "print(\"Recall = \", metrics.recall_score(y_test, prediction))\n"
   ]
  },
  {
   "cell_type": "code",
   "execution_count": 69,
   "id": "0b9a970f",
   "metadata": {},
   "outputs": [
    {
     "data": {
      "text/plain": [
       "array([[3, 0],\n",
       "       [0, 2]], dtype=int64)"
      ]
     },
     "execution_count": 69,
     "metadata": {},
     "output_type": "execute_result"
    }
   ],
   "source": [
    "metrics.confusion_matrix(y_test, prediction)"
   ]
  },
  {
   "cell_type": "code",
   "execution_count": null,
   "id": "2210f462",
   "metadata": {},
   "outputs": [],
   "source": []
  },
  {
   "cell_type": "code",
   "execution_count": null,
   "id": "7befe5c1",
   "metadata": {},
   "outputs": [],
   "source": []
  },
  {
   "cell_type": "code",
   "execution_count": null,
   "id": "87058e85",
   "metadata": {},
   "outputs": [],
   "source": []
  }
 ],
 "metadata": {
  "kernelspec": {
   "display_name": "Python 3 (ipykernel)",
   "language": "python",
   "name": "python3"
  },
  "language_info": {
   "codemirror_mode": {
    "name": "ipython",
    "version": 3
   },
   "file_extension": ".py",
   "mimetype": "text/x-python",
   "name": "python",
   "nbconvert_exporter": "python",
   "pygments_lexer": "ipython3",
   "version": "3.9.12"
  }
 },
 "nbformat": 4,
 "nbformat_minor": 5
}
